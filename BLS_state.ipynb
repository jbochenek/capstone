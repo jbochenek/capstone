{
  "nbformat": 4,
  "nbformat_minor": 0,
  "metadata": {
    "colab": {
      "name": "BLS_state.ipynb",
      "provenance": [],
      "collapsed_sections": []
    },
    "kernelspec": {
      "name": "python3",
      "display_name": "Python 3"
    }
  },
  "cells": [
    {
      "cell_type": "code",
      "metadata": {
        "id": "GD6GWV4h72g5",
        "outputId": "feaf1018-38fb-4829-b772-130e22217346",
        "colab": {
          "base_uri": "https://localhost:8080/",
          "height": 52
        }
      },
      "source": [
        "# Referance  used:  https://www.bd-econ.com/blsapi.html\n",
        "#import os\n",
        "#import sys\n",
        "from google.colab import drive\n",
        "from google.colab import files\n",
        "import json\n",
        "import requests\n",
        "import pandas as pd\n",
        "import matplotlib.pyplot as plt\n",
        "drive.mount('/content/drive/', force_remount=True)\n",
        "bls_dir = '/content/drive/My Drive/Colab_Notebooks/DSCI_591_BLS'\n",
        "%cd {bls_dir}\n",
        "\n",
        "!python config.py # runs the config file to load your API details\n",
        "import config # .py file with bls_key = 'API key here'\n",
        "\n",
        "# The url for BLS API v2\n",
        "url = 'https://api.bls.gov/publicAPI/v2/timeseries/data/'\n",
        "\n",
        "# API key in config.py which contains: bls_key = 'key'\n",
        "key = '?registrationkey={}'.format(config.bls_key)\n",
        "\n",
        "# Series stored as a dictionary\n",
        "series_dict = {\n",
        "    'CEU0000000001': 'Total Nonfarm Employment, Not Seasonally Adjusted',\n",
        "    'SMU42000000000000001': 'Pennsylvania, Total Nonfarm, Not seasonally adjusted',\n",
        "    'SMU42000007000000001': 'Pennsylvania, Leisure and Hospitality, Not seasonally adjusted',\n",
        "    'SMU42000005000000001': 'Pennsylvania, Information, Not seasonally adjusted'\n",
        "#    'SMU42000007130000001': 'Pennsylvania, Leisure and Hospitality, Not seasonally adjusted', # job code detailed\n",
        "#    'SMU42000005170000001': 'Pennsylvania, Information, Not seasonally adjusted'}             # job code detailed\n",
        "#    'SMU42101007000000001': 'Pennsylvania, Leisure and Hospitality, Not seasonally adjusted', # location code detailed\n",
        "    }\n",
        "\n",
        "# Start year and end year\n",
        "dates = ('2011', '2020')  # currently limited to 10 years?"
      ],
      "execution_count": 1,
      "outputs": [
        {
          "output_type": "stream",
          "text": [
            "Mounted at /content/drive/\n",
            "/content/drive/My Drive/Colab_Notebooks/DSCI_591_BLS\n"
          ],
          "name": "stdout"
        }
      ]
    },
    {
      "cell_type": "code",
      "metadata": {
        "id": "QbObjMkR-ZGU"
      },
      "source": [
        "# Specify json as content type to return\n",
        "headers = {'Content-type': 'application/json'}\n",
        "\n",
        "# Submit the list of series as data\n",
        "data = json.dumps({\n",
        "    \"seriesid\": list(series_dict.keys()),\n",
        "    \"startyear\": dates[0],\n",
        "    \"endyear\": dates[1]})\n",
        "\n",
        "# Post request for the data\n",
        "p = requests.post(\n",
        "    '{}{}'.format(url, key),\n",
        "    headers=headers,\n",
        "    data=data).json()['Results']['series']"
      ],
      "execution_count": 2,
      "outputs": []
    },
    {
      "cell_type": "code",
      "metadata": {
        "id": "dsiu93wz-ujV",
        "outputId": "357d6a08-f0a3-44a7-f3c9-d6eba5c15fa0",
        "colab": {
          "base_uri": "https://localhost:8080/",
          "height": 585
        }
      },
      "source": [
        "# Date index from first series\n",
        "date_list = [f\"{i['year']}-{i['period'][1:]}-01\" for i in p[0]['data']]\n",
        "\n",
        "# Empty dataframe to fill with values\n",
        "df = pd.DataFrame()\n",
        "\n",
        "# Build a pandas series from the API results, p\n",
        "for s in p:\n",
        "    try:  \n",
        "      df[series_dict[s['seriesID']]] = pd.Series(\n",
        "          index = pd.to_datetime(date_list),\n",
        "          data = [i['value'] for i in s['data']]\n",
        "          ).astype(float).iloc[::-1]\n",
        "    except:\n",
        "      pass\n",
        "#df.rename(columns={'': 'Date'}, inplace=True)\n",
        "df.index.names = ['Date']\n",
        "# Show last 10 results\n",
        "df.to_csv(f'{bls_dir}/BLS_PA_pandas.csv');\n",
        "df.tail(10)\n"
      ],
      "execution_count": 3,
      "outputs": [
        {
          "output_type": "execute_result",
          "data": {
            "text/html": [
              "<div>\n",
              "<style scoped>\n",
              "    .dataframe tbody tr th:only-of-type {\n",
              "        vertical-align: middle;\n",
              "    }\n",
              "\n",
              "    .dataframe tbody tr th {\n",
              "        vertical-align: top;\n",
              "    }\n",
              "\n",
              "    .dataframe thead th {\n",
              "        text-align: right;\n",
              "    }\n",
              "</style>\n",
              "<table border=\"1\" class=\"dataframe\">\n",
              "  <thead>\n",
              "    <tr style=\"text-align: right;\">\n",
              "      <th></th>\n",
              "      <th>Total Nonfarm Employment, Not Seasonally Adjusted</th>\n",
              "      <th>Pennsylvania, Total Nonfarm, Not seasonally adjusted</th>\n",
              "      <th>Pennsylvania, Leisure and Hospitality, Not seasonally adjusted</th>\n",
              "      <th>Pennsylvania, Information, Not seasonally adjusted</th>\n",
              "    </tr>\n",
              "    <tr>\n",
              "      <th>Date</th>\n",
              "      <th></th>\n",
              "      <th></th>\n",
              "      <th></th>\n",
              "      <th></th>\n",
              "    </tr>\n",
              "  </thead>\n",
              "  <tbody>\n",
              "    <tr>\n",
              "      <th>2019-11-01</th>\n",
              "      <td>153177.0</td>\n",
              "      <td>6152.2</td>\n",
              "      <td>563.0</td>\n",
              "      <td>87.6</td>\n",
              "    </tr>\n",
              "    <tr>\n",
              "      <th>2019-12-01</th>\n",
              "      <td>152929.0</td>\n",
              "      <td>6121.7</td>\n",
              "      <td>563.8</td>\n",
              "      <td>87.4</td>\n",
              "    </tr>\n",
              "    <tr>\n",
              "      <th>2020-01-01</th>\n",
              "      <td>150153.0</td>\n",
              "      <td>5991.7</td>\n",
              "      <td>549.5</td>\n",
              "      <td>85.3</td>\n",
              "    </tr>\n",
              "    <tr>\n",
              "      <th>2020-02-01</th>\n",
              "      <td>151076.0</td>\n",
              "      <td>6038.7</td>\n",
              "      <td>550.0</td>\n",
              "      <td>85.3</td>\n",
              "    </tr>\n",
              "    <tr>\n",
              "      <th>2020-03-01</th>\n",
              "      <td>150073.0</td>\n",
              "      <td>5990.7</td>\n",
              "      <td>529.5</td>\n",
              "      <td>85.4</td>\n",
              "    </tr>\n",
              "    <tr>\n",
              "      <th>2020-04-01</th>\n",
              "      <td>130317.0</td>\n",
              "      <td>5009.7</td>\n",
              "      <td>235.1</td>\n",
              "      <td>77.1</td>\n",
              "    </tr>\n",
              "    <tr>\n",
              "      <th>2020-05-01</th>\n",
              "      <td>133432.0</td>\n",
              "      <td>5227.1</td>\n",
              "      <td>294.1</td>\n",
              "      <td>72.9</td>\n",
              "    </tr>\n",
              "    <tr>\n",
              "      <th>2020-06-01</th>\n",
              "      <td>138502.0</td>\n",
              "      <td>5454.4</td>\n",
              "      <td>386.8</td>\n",
              "      <td>73.3</td>\n",
              "    </tr>\n",
              "    <tr>\n",
              "      <th>2020-07-01</th>\n",
              "      <td>139063.0</td>\n",
              "      <td>5501.5</td>\n",
              "      <td>441.9</td>\n",
              "      <td>74.6</td>\n",
              "    </tr>\n",
              "    <tr>\n",
              "      <th>2020-08-01</th>\n",
              "      <td>140598.0</td>\n",
              "      <td>5546.2</td>\n",
              "      <td>442.4</td>\n",
              "      <td>74.3</td>\n",
              "    </tr>\n",
              "  </tbody>\n",
              "</table>\n",
              "</div>"
            ],
            "text/plain": [
              "            Total Nonfarm Employment, Not Seasonally Adjusted  ...  Pennsylvania, Information, Not seasonally adjusted\n",
              "Date                                                           ...                                                    \n",
              "2019-11-01                                           153177.0  ...                                               87.6 \n",
              "2019-12-01                                           152929.0  ...                                               87.4 \n",
              "2020-01-01                                           150153.0  ...                                               85.3 \n",
              "2020-02-01                                           151076.0  ...                                               85.3 \n",
              "2020-03-01                                           150073.0  ...                                               85.4 \n",
              "2020-04-01                                           130317.0  ...                                               77.1 \n",
              "2020-05-01                                           133432.0  ...                                               72.9 \n",
              "2020-06-01                                           138502.0  ...                                               73.3 \n",
              "2020-07-01                                           139063.0  ...                                               74.6 \n",
              "2020-08-01                                           140598.0  ...                                               74.3 \n",
              "\n",
              "[10 rows x 4 columns]"
            ]
          },
          "metadata": {
            "tags": []
          },
          "execution_count": 3
        }
      ]
    },
    {
      "cell_type": "code",
      "metadata": {
        "id": "KWlNGBF_-_rV",
        "outputId": "2b11524a-4f74-44b3-cd8f-534cadf8f738",
        "colab": {
          "base_uri": "https://localhost:8080/",
          "height": 313
        }
      },
      "source": [
        "# Simple line plot of the data\n",
        "\n",
        "df.plot(title='Unemployment Rates by Race or Origin')"
      ],
      "execution_count": 4,
      "outputs": [
        {
          "output_type": "execute_result",
          "data": {
            "text/plain": [
              "<matplotlib.axes._subplots.AxesSubplot at 0x7f4ea704afd0>"
            ]
          },
          "metadata": {
            "tags": []
          },
          "execution_count": 4
        },
        {
          "output_type": "display_data",
          "data": {
            "image/png": "[encoded data removed]",
            "text/plain": [
              "<Figure size 432x288 with 1 Axes>"
            ]
          },
          "metadata": {
            "tags": [],
            "needs_background": "light"
          }
        }
      ]
    },
    {
      "cell_type": "code",
      "metadata": {
        "id": "bd9NL0HtKm1h",
        "outputId": "25b6d88d-b471-4b29-91ee-afb6ca6f2d1c",
        "colab": {
          "base_uri": "https://localhost:8080/",
          "height": 34
        }
      },
      "source": [
        "bls_df = pd.read_csv(f'{bls_dir}/BLS_Pandas.csv')\n",
        "list(bls_df.columns) \n",
        "#bls_df.tail()"
      ],
      "execution_count": 5,
      "outputs": [
        {
          "output_type": "execute_result",
          "data": {
            "text/plain": [
              "['Date', 'White', 'Black', 'Hispanic']"
            ]
          },
          "metadata": {
            "tags": []
          },
          "execution_count": 5
        }
      ]
    },
    {
      "cell_type": "code",
      "metadata": {
        "id": "0kJMq4-xpouk",
        "outputId": "caefa685-e589-41f8-c9f9-45700f93757f",
        "colab": {
          "base_uri": "https://localhost:8080/",
          "height": 122
        }
      },
      "source": [
        "bls_df['Date'].value_counts().sort_index().head()"
      ],
      "execution_count": 6,
      "outputs": [
        {
          "output_type": "execute_result",
          "data": {
            "text/plain": [
              "2019-01-01    1\n",
              "2019-02-01    1\n",
              "2019-03-01    1\n",
              "2019-04-01    1\n",
              "2019-05-01    1\n",
              "Name: Date, dtype: int64"
            ]
          },
          "metadata": {
            "tags": []
          },
          "execution_count": 6
        }
      ]
    },
    {
      "cell_type": "code",
      "metadata": {
        "id": "nu6mLBfjqAsH",
        "outputId": "0656f3e7-1afa-4359-d65c-1daa960e5087",
        "colab": {
          "base_uri": "https://localhost:8080/",
          "height": 282
        }
      },
      "source": [
        "bls_df.plot()   #learning to play with plot\n"
      ],
      "execution_count": 7,
      "outputs": [
        {
          "output_type": "execute_result",
          "data": {
            "text/plain": [
              "<matplotlib.axes._subplots.AxesSubplot at 0x7f4ea6f36dd8>"
            ]
          },
          "metadata": {
            "tags": []
          },
          "execution_count": 7
        },
        {
          "output_type": "display_data",
          "data": {
            "image/png": "[encoded data removed]",
            "text/plain": [
              "<Figure size 432x288 with 1 Axes>"
            ]
          },
          "metadata": {
            "tags": [],
            "needs_background": "light"
          }
        }
      ]
    }
  ]
}