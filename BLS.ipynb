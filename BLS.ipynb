{
  "nbformat": 4,
  "nbformat_minor": 0,
  "metadata": {
    "colab": {
      "name": "BLS.ipynb",
      "provenance": [],
      "collapsed_sections": []
    },
    "kernelspec": {
      "name": "python3",
      "display_name": "Python 3"
    }
  },
  "cells": [
    {
      "cell_type": "code",
      "metadata": {
        "id": "GD6GWV4h72g5",
        "outputId": "7cc3a779-1253-4e3e-f548-455ee7467f53",
        "colab": {
          "base_uri": "https://localhost:8080/",
          "height": 52
        }
      },
      "source": [
        "# Referance  used:  https://www.bd-econ.com/blsapi.html\n",
        "#import os\n",
        "#import sys\n",
        "from google.colab import drive\n",
        "from google.colab import files\n",
        "import json\n",
        "import requests\n",
        "import pandas as pd\n",
        "import matplotlib.pyplot as plt\n",
        "drive.mount('/content/drive/', force_remount=True)\n",
        "bls_dir = '/content/drive/My Drive/Colab_Notebooks/DSCI_591_BLS'\n",
        "%cd {bls_dir}\n",
        "\n",
        "!python config.py # runs the config file to load your API details\n",
        "import config # .py file with bls_key = 'API key here'\n",
        "\n",
        "# The url for BLS API v2\n",
        "url = 'https://api.bls.gov/publicAPI/v2/timeseries/data/'\n",
        "\n",
        "# API key in config.py which contains: bls_key = 'key'\n",
        "key = '?registrationkey={}'.format(config.bls_key)\n",
        "\n",
        "# Series stored as a dictionary\n",
        "series_dict = {\n",
        "    'LNS14000003': 'White',\n",
        "    'LNS14000006': 'Black',\n",
        "    'LNS14000009': 'Hispanic',\n",
        "#    'LFS224000600000': 'Num. Unemployed For Less Than 5 weeks',\n",
        "#    'LFS224010700000': 'Num. Unemployed For 5-14 Weeks',\n",
        "#    'LFS224001800000': 'Num. Unemployed For 15 Weeks & Over', \n",
        "#    'LFS22400310000': 'Num. Unemployed For 27 Weeks & Over'\n",
        "    }\n",
        "\n",
        "# Start year and end year\n",
        "dates = ('2019', '2020')  # currently limited to 10 years?"
      ],
      "execution_count": 1,
      "outputs": [
        {
          "output_type": "stream",
          "text": [
            "Mounted at /content/drive/\n",
            "/content/drive/My Drive/Colab_Notebooks/DSCI_591_BLS\n"
          ],
          "name": "stdout"
        }
      ]
    },
    {
      "cell_type": "code",
      "metadata": {
        "id": "QbObjMkR-ZGU"
      },
      "source": [
        "# Specify json as content type to return\n",
        "headers = {'Content-type': 'application/json'}\n",
        "\n",
        "# Submit the list of series as data\n",
        "data = json.dumps({\n",
        "    \"seriesid\": list(series_dict.keys()),\n",
        "    \"startyear\": dates[0],\n",
        "    \"endyear\": dates[1]})\n",
        "\n",
        "# Post request for the data\n",
        "p = requests.post(\n",
        "    '{}{}'.format(url, key),\n",
        "    headers=headers,\n",
        "    data=data).json()['Results']['series']"
      ],
      "execution_count": 2,
      "outputs": []
    },
    {
      "cell_type": "code",
      "metadata": {
        "id": "dsiu93wz-ujV",
        "outputId": "6931e779-cc96-46bc-c68a-a295735bccd7",
        "colab": {
          "base_uri": "https://localhost:8080/",
          "height": 381
        }
      },
      "source": [
        "# Date index from first series\n",
        "date_list = [f\"{i['year']}-{i['period'][1:]}-01\" for i in p[0]['data']]\n",
        "\n",
        "# Empty dataframe to fill with values\n",
        "df = pd.DataFrame()\n",
        "\n",
        "# Build a pandas series from the API results, p\n",
        "for s in p:\n",
        "#    try:  \n",
        "      df[series_dict[s['seriesID']]] = pd.Series(\n",
        "          index = pd.to_datetime(date_list),\n",
        "          data = [i['value'] for i in s['data']]\n",
        "          ).astype(float).iloc[::-1]\n",
        "#    except:\n",
        "#      pass\n",
        "\n",
        "#df.rename(columns={'': 'Date'}, inplace=True)\n",
        "df.index.names = ['Date']\n",
        "# Show last 10 results\n",
        "df.to_csv(f'{bls_dir}/BLS_Pandas.csv');\n",
        "df.tail(10)\n"
      ],
      "execution_count": 3,
      "outputs": [
        {
          "output_type": "execute_result",
          "data": {
            "text/html": [
              "<div>\n",
              "<style scoped>\n",
              "    .dataframe tbody tr th:only-of-type {\n",
              "        vertical-align: middle;\n",
              "    }\n",
              "\n",
              "    .dataframe tbody tr th {\n",
              "        vertical-align: top;\n",
              "    }\n",
              "\n",
              "    .dataframe thead th {\n",
              "        text-align: right;\n",
              "    }\n",
              "</style>\n",
              "<table border=\"1\" class=\"dataframe\">\n",
              "  <thead>\n",
              "    <tr style=\"text-align: right;\">\n",
              "      <th></th>\n",
              "      <th>White</th>\n",
              "      <th>Black</th>\n",
              "      <th>Hispanic</th>\n",
              "    </tr>\n",
              "    <tr>\n",
              "      <th>Date</th>\n",
              "      <th></th>\n",
              "      <th></th>\n",
              "      <th></th>\n",
              "    </tr>\n",
              "  </thead>\n",
              "  <tbody>\n",
              "    <tr>\n",
              "      <th>2019-11-01</th>\n",
              "      <td>3.2</td>\n",
              "      <td>5.6</td>\n",
              "      <td>4.2</td>\n",
              "    </tr>\n",
              "    <tr>\n",
              "      <th>2019-12-01</th>\n",
              "      <td>3.2</td>\n",
              "      <td>5.9</td>\n",
              "      <td>4.2</td>\n",
              "    </tr>\n",
              "    <tr>\n",
              "      <th>2020-01-01</th>\n",
              "      <td>3.1</td>\n",
              "      <td>6.0</td>\n",
              "      <td>4.3</td>\n",
              "    </tr>\n",
              "    <tr>\n",
              "      <th>2020-02-01</th>\n",
              "      <td>3.1</td>\n",
              "      <td>5.8</td>\n",
              "      <td>4.4</td>\n",
              "    </tr>\n",
              "    <tr>\n",
              "      <th>2020-03-01</th>\n",
              "      <td>4.0</td>\n",
              "      <td>6.7</td>\n",
              "      <td>6.0</td>\n",
              "    </tr>\n",
              "    <tr>\n",
              "      <th>2020-04-01</th>\n",
              "      <td>14.2</td>\n",
              "      <td>16.7</td>\n",
              "      <td>18.9</td>\n",
              "    </tr>\n",
              "    <tr>\n",
              "      <th>2020-05-01</th>\n",
              "      <td>12.4</td>\n",
              "      <td>16.8</td>\n",
              "      <td>17.6</td>\n",
              "    </tr>\n",
              "    <tr>\n",
              "      <th>2020-06-01</th>\n",
              "      <td>10.1</td>\n",
              "      <td>15.4</td>\n",
              "      <td>14.5</td>\n",
              "    </tr>\n",
              "    <tr>\n",
              "      <th>2020-07-01</th>\n",
              "      <td>9.2</td>\n",
              "      <td>14.6</td>\n",
              "      <td>12.9</td>\n",
              "    </tr>\n",
              "    <tr>\n",
              "      <th>2020-08-01</th>\n",
              "      <td>7.3</td>\n",
              "      <td>13.0</td>\n",
              "      <td>10.5</td>\n",
              "    </tr>\n",
              "  </tbody>\n",
              "</table>\n",
              "</div>"
            ],
            "text/plain": [
              "            White  Black  Hispanic\n",
              "Date                              \n",
              "2019-11-01    3.2    5.6       4.2\n",
              "2019-12-01    3.2    5.9       4.2\n",
              "2020-01-01    3.1    6.0       4.3\n",
              "2020-02-01    3.1    5.8       4.4\n",
              "2020-03-01    4.0    6.7       6.0\n",
              "2020-04-01   14.2   16.7      18.9\n",
              "2020-05-01   12.4   16.8      17.6\n",
              "2020-06-01   10.1   15.4      14.5\n",
              "2020-07-01    9.2   14.6      12.9\n",
              "2020-08-01    7.3   13.0      10.5"
            ]
          },
          "metadata": {
            "tags": []
          },
          "execution_count": 3
        }
      ]
    },
    {
      "cell_type": "code",
      "metadata": {
        "id": "KWlNGBF_-_rV",
        "outputId": "30a47917-34eb-4672-d749-da8316207cb4",
        "colab": {
          "base_uri": "https://localhost:8080/",
          "height": 325
        }
      },
      "source": [
        "# Simple line plot of the data\n",
        "\n",
        "df.plot(title='Unemployment Rates by Race or Origin')"
      ],
      "execution_count": 4,
      "outputs": [
        {
          "output_type": "execute_result",
          "data": {
            "text/plain": [
              "<matplotlib.axes._subplots.AxesSubplot at 0x7fb05fc1f630>"
            ]
          },
          "metadata": {
            "tags": []
          },
          "execution_count": 4
        },
        {
          "output_type": "display_data",
          "data": {
            "image/png": "[encoded data removed]",
            "text/plain": [
              "<Figure size 432x288 with 1 Axes>"
            ]
          },
          "metadata": {
            "tags": [],
            "needs_background": "light"
          }
        }
      ]
    },
    {
      "cell_type": "code",
      "metadata": {
        "id": "bd9NL0HtKm1h",
        "outputId": "50458825-2030-478c-dffd-f2ee32636946",
        "colab": {
          "base_uri": "https://localhost:8080/",
          "height": 34
        }
      },
      "source": [
        "bls_df = pd.read_csv(f'{bls_dir}/BLS_Pandas.csv')\n",
        "list(bls_df.columns) \n",
        "#bls_df.tail()"
      ],
      "execution_count": 5,
      "outputs": [
        {
          "output_type": "execute_result",
          "data": {
            "text/plain": [
              "['Date', 'White', 'Black', 'Hispanic']"
            ]
          },
          "metadata": {
            "tags": []
          },
          "execution_count": 5
        }
      ]
    },
    {
      "cell_type": "code",
      "metadata": {
        "id": "0kJMq4-xpouk",
        "outputId": "92eb342c-b73c-4e64-f727-329ffbbd6388",
        "colab": {
          "base_uri": "https://localhost:8080/",
          "height": 122
        }
      },
      "source": [
        "bls_df['Date'].value_counts().sort_index().head()"
      ],
      "execution_count": 6,
      "outputs": [
        {
          "output_type": "execute_result",
          "data": {
            "text/plain": [
              "2019-01-01    1\n",
              "2019-02-01    1\n",
              "2019-03-01    1\n",
              "2019-04-01    1\n",
              "2019-05-01    1\n",
              "Name: Date, dtype: int64"
            ]
          },
          "metadata": {
            "tags": []
          },
          "execution_count": 6
        }
      ]
    },
    {
      "cell_type": "code",
      "metadata": {
        "id": "nu6mLBfjqAsH",
        "outputId": "42f146d1-e681-4962-c282-10f9bf763ff8",
        "colab": {
          "base_uri": "https://localhost:8080/",
          "height": 282
        }
      },
      "source": [
        "bls_df.plot()\n"
      ],
      "execution_count": 7,
      "outputs": [
        {
          "output_type": "execute_result",
          "data": {
            "text/plain": [
              "<matplotlib.axes._subplots.AxesSubplot at 0x7fb05fac1b70>"
            ]
          },
          "metadata": {
            "tags": []
          },
          "execution_count": 7
        },
        {
          "output_type": "display_data",
          "data": {
            "image/png": "[encoded data removed]",
            "text/plain": [
              "<Figure size 432x288 with 1 Axes>"
            ]
          },
          "metadata": {
            "tags": [],
            "needs_background": "light"
          }
        }
      ]
    }
  ]
}