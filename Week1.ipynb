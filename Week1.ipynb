{
 "cells": [
  {
   "cell_type": "markdown",
   "metadata": {},
   "source": [
    "## Acceptable Projects in DSCI 591\n",
    "\n",
    "- Your Capstone project must also cover the whole DS life cycle\n",
    "\n",
    "- The focus should be on Data Analysis, Statistical Data Analysis/Exploratory Data Analysis, Data Visualization and report\n",
    "\n",
    "- You are going to accomplish three reports based on DSCI 591 syllabus for the above items\n",
    "\n",
    "- The capstone must include acquiring, cleaning, and understanding the data through exploratory analytics.\n",
    "\n",
    "- If you want to add unsupervised model and/or supervised model with ML or DL apparoach, then apply these when you have all essential pre-processing steps\n",
    "\n",
    "- Jump to machine learning without the three required reports in DSCI 591, the grades will reflect the missing components"
   ]
  },
  {
   "cell_type": "markdown",
   "metadata": {},
   "source": [
    "## Answer those four questions:\n",
    "\n",
    "- https://learn.dcollege.net/ultra/courses/_271082_1/cl/outline"
   ]
  },
  {
   "cell_type": "markdown",
   "metadata": {},
   "source": [
    "## A sample project for DSCI 591\n",
    "\n",
    "- Covid 19:\n",
    "\n",
    "    - Obtain and plot top 10 countries ranked by the highest infected people \n",
    "    - Obtain and plot top 10 countries ranked by  the highest mortality rate\n",
    "    - Did Covid had impact on tech companies? \n",
    "        - Obtain the Revenues of Big, Mid-size companies before and after Covid. Then do statistical comparison and conclude that the change is \n",
    "    significant (or not) with some confidence level  \n",
    "\n",
    "    - Did Covid had impact on jobs/services?\n",
    "    \n",
    "        - Compare number of job postings on LinkedIn before and after Covid for an specific sector (tech sector as an example) in the US\n",
    "            - https://www.reddit.com/r/Python/comments/4l21jh/best_way_to_scrape_data_from_linkedin_job_postings/  \n",
    "            - https://amandeepsaluja.com/extracting-job-information-from-linkedin-jobs-using-beautifulsoup-and-selenium/  \n",
    "            - https://nubela.co/proxycurl/linkedin \n",
    "            - https://gist.github.com/bozhang0504/109b0bed25b8c7d16e8f \n",
    "            - https://www.linkedin.com/pulse/how-easy-scraping-data-from-linkedin-profiles-david-craven/\n",
    "\n",
    "    - The Word Counts (Word Cloud) on Tweet posts about Covid (Do this for before Covid)\n",
    "    - Keywords on Covid 19 extracted from tweeter and its change over time (last 7 months for example) in US\n",
    "        - https://github.com/UBC-NLP/megacov\n",
    "    - Do we have lower rents and home prices after Covid?"
   ]
  },
  {
   "cell_type": "markdown",
   "metadata": {},
   "source": [
    "# Other Sample Projects\n",
    "\n",
    "- Anomaly detection -> You can apply PCA + Clustering\n",
    "\n",
    "- Crime data analysis (911 dataset)\n",
    "\n",
    "    - Which region in a city (Philadelphia) is the most violence part, at what time of the day, which season. what type of crime is happening the most\n",
    "    \n",
    "    \n",
    "- IMDB movies data analysis \n",
    "\n",
    "    - Group movies based on their genre similarities \n",
    "    \n",
    "    - Which year we have the most high average ratings?\n",
    "    \n",
    "    - Which year the most movies had been produced?\n",
    "    \n",
    "    - In which genre, we have the most movies?\n",
    "    \n",
    "    - Which actor/actress played the most?\n",
    "    \n",
    "- Compare countries in the world in many aspects including:\n",
    "\n",
    "    - Happiness\n",
    "    \n",
    "    - GDP\n",
    "    \n",
    "    - Is there any correlation between happiness and GDP among countries?\n",
    "    \n",
    "    - Incomes\n",
    "    \n",
    "    - Income distributions\n",
    "    \n",
    "    - Mortality rate\n",
    "     \n",
    "- Dating Data – Attractiveness, Sincerity, Intelligence, Hobbies \n",
    "\n",
    "    - https://flowingdata.com/2008/02/06/speed-dating-data-attractiveness-sincerity-intelligence-hobbies/\n",
    "    \n",
    "    - http://www.stat.columbia.edu/~gelman/arm/examples/speed.dating/"
   ]
  },
  {
   "cell_type": "markdown",
   "metadata": {},
   "source": [
    "## Group projects is accepted for DSCI 591 (4 members per group)\n",
    "\n",
    "- Debugging and peer code review\n",
    "\n",
    "- Tasks for each member should be clear and be defined \n",
    "\n",
    "- I will set weekly meetings for each group for 15-20 minutes time-slot"
   ]
  },
  {
   "cell_type": "markdown",
   "metadata": {},
   "source": [
    "## Your report for DSCI 591\n",
    "\n",
    "- Should create a Github repo while you will push all codes into it \n",
    "\n",
    "- Each team Github repo should have a clear readme\n",
    "\n",
    "- If you used some references, you should mention them in readme and your implementation should be different from whose resources\n",
    "\n",
    "- Bonus would be given if publish your project into Towards Data Science"
   ]
  },
  {
   "cell_type": "markdown",
   "metadata": {},
   "source": [
    "# Additional Resources:\n",
    "\n",
    "- https://perso.telecom-paristech.fr/eagan/class/igr204/datasets\n",
    "\n",
    "- https://www.gapminder.org/data/\n",
    "\n",
    "- https://www.interviewqs.com/blog/free_online_data_sets\n",
    "\n",
    "- https://www.ml.cmu.edu/research/data-analysis-projects.html"
   ]
  },
  {
   "cell_type": "code",
   "execution_count": null,
   "metadata": {},
   "outputs": [],
   "source": []
  }
 ],
 "metadata": {
  "kernelspec": {
   "display_name": "Python 3",
   "language": "python",
   "name": "python3"
  },
  "language_info": {
   "codemirror_mode": {
    "name": "ipython",
    "version": 3
   },
   "file_extension": ".py",
   "mimetype": "text/x-python",
   "name": "python",
   "nbconvert_exporter": "python",
   "pygments_lexer": "ipython3",
   "version": "3.6.5"
  }
 },
 "nbformat": 4,
 "nbformat_minor": 2
}
